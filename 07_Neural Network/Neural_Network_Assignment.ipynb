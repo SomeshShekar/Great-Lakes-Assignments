{
 "cells": [
  {
   "cell_type": "markdown",
   "metadata": {
    "id": "t7uzKjo_XuCw"
   },
   "source": [
    "## ***Objective:***\n",
    "\n",
    "> Indented block\n",
    "\n",
    "The objective of the project is to learn how to implement a simple image classification pipeline based on a deep neural network and understand the basics of Image Classification"
   ]
  },
  {
   "cell_type": "markdown",
   "metadata": {
    "id": "gsurZeofYFbC"
   },
   "source": [
    "# ***Importing Libraries***"
   ]
  },
  {
   "cell_type": "code",
   "execution_count": 1,
   "metadata": {
    "id": "40JNV97x-7ZL"
   },
   "outputs": [],
   "source": [
    "import warnings\n",
    "from tensorflow.keras.utils import to_categorical\n",
    "from tensorflow.keras.models import Sequential\n",
    "from tensorflow.keras.layers import Activation, Dense\n",
    "from tensorflow.keras import optimizers\n",
    "from sklearn import preprocessing"
   ]
  },
  {
   "cell_type": "markdown",
   "metadata": {
    "id": "XMaCO08AYOga"
   },
   "source": [
    "## **Merging Google Drive**"
   ]
  },
  {
   "cell_type": "code",
   "execution_count": 2,
   "metadata": {
    "id": "dDElttJC_AZa"
   },
   "outputs": [],
   "source": [
    "from google.colab import drive"
   ]
  },
  {
   "cell_type": "code",
   "execution_count": 3,
   "metadata": {
    "colab": {
     "base_uri": "https://localhost:8080/",
     "height": 34
    },
    "id": "hmXHpgVb_H_A",
    "outputId": "e2bb1ad1-9191-474a-9954-97cc1023d2e3"
   },
   "outputs": [
    {
     "name": "stdout",
     "output_type": "stream",
     "text": [
      "Mounted at /content/drive\n"
     ]
    }
   ],
   "source": [
    "drive.mount('/content/drive')"
   ]
  },
  {
   "cell_type": "markdown",
   "metadata": {
    "id": "hUhqj7KtYs6S"
   },
   "source": [
    "# **Read the data from the h5py file**"
   ]
  },
  {
   "cell_type": "code",
   "execution_count": 4,
   "metadata": {
    "colab": {
     "base_uri": "https://localhost:8080/",
     "height": 34
    },
    "id": "-zRL7k58_QNy",
    "outputId": "5542961c-8c1a-460b-f7f1-6f4b495c53d0"
   },
   "outputs": [
    {
     "data": {
      "text/plain": [
       "<KeysViewHDF5 ['X_test', 'X_train', 'X_val', 'y_test', 'y_train', 'y_val']>"
      ]
     },
     "execution_count": 4,
     "metadata": {
      "tags": []
     },
     "output_type": "execute_result"
    }
   ],
   "source": [
    "import h5py\n",
    "hf5=h5py.File('/content/drive/My Drive/Colab Notebooks/SVHN_single_grey1.h5','r')\n",
    "hf5.keys()"
   ]
  },
  {
   "cell_type": "markdown",
   "metadata": {
    "id": "o8vTLssMY6WV"
   },
   "source": [
    "# ***Understanding the train/test splits***"
   ]
  },
  {
   "cell_type": "code",
   "execution_count": 5,
   "metadata": {
    "id": "HeDibojK_4zm"
   },
   "outputs": [],
   "source": [
    "X_train=hf5['X_train'][:]\n",
    "y_train=hf5['y_train'][:]\n",
    "x_test=hf5['X_test'][:]\n",
    "y_test=hf5['y_test'][:]"
   ]
  },
  {
   "cell_type": "markdown",
   "metadata": {
    "id": "JsTwTthWDL3T"
   },
   "source": [
    "# ***Reshape and normalize the train and test features.***"
   ]
  },
  {
   "cell_type": "code",
   "execution_count": 6,
   "metadata": {
    "colab": {
     "base_uri": "https://localhost:8080/",
     "height": 34
    },
    "id": "1pIThvHa_6y9",
    "outputId": "99802eaf-9d28-4b7d-bd50-6da0c53833a5"
   },
   "outputs": [
    {
     "data": {
      "text/plain": [
       "(42000, 32, 32)"
      ]
     },
     "execution_count": 6,
     "metadata": {
      "tags": []
     },
     "output_type": "execute_result"
    }
   ],
   "source": [
    "X_train.shape"
   ]
  },
  {
   "cell_type": "code",
   "execution_count": 7,
   "metadata": {
    "colab": {
     "base_uri": "https://localhost:8080/",
     "height": 34
    },
    "id": "nQ4bxEhb_809",
    "outputId": "5aec50e7-6577-4441-93f4-892a37ad5dff"
   },
   "outputs": [
    {
     "data": {
      "text/plain": [
       "(18000, 32, 32)"
      ]
     },
     "execution_count": 7,
     "metadata": {
      "tags": []
     },
     "output_type": "execute_result"
    }
   ],
   "source": [
    "x_test.shape"
   ]
  },
  {
   "cell_type": "code",
   "execution_count": 8,
   "metadata": {
    "colab": {
     "base_uri": "https://localhost:8080/",
     "height": 34
    },
    "id": "lN6RhL8i_-05",
    "outputId": "07be9dd0-4d3f-458f-f253-ed11e5722f03"
   },
   "outputs": [
    {
     "data": {
      "text/plain": [
       "(42000,)"
      ]
     },
     "execution_count": 8,
     "metadata": {
      "tags": []
     },
     "output_type": "execute_result"
    }
   ],
   "source": [
    "y_train.shape"
   ]
  },
  {
   "cell_type": "code",
   "execution_count": 9,
   "metadata": {
    "colab": {
     "base_uri": "https://localhost:8080/",
     "height": 34
    },
    "id": "iLRUrjgKAA8F",
    "outputId": "ebf23a1d-08f7-4486-8688-b5d9f8274994"
   },
   "outputs": [
    {
     "data": {
      "text/plain": [
       "(18000,)"
      ]
     },
     "execution_count": 9,
     "metadata": {
      "tags": []
     },
     "output_type": "execute_result"
    }
   ],
   "source": [
    "y_test.shape"
   ]
  },
  {
   "cell_type": "code",
   "execution_count": 10,
   "metadata": {
    "colab": {
     "base_uri": "https://localhost:8080/",
     "height": 34
    },
    "id": "W0LWztFsACxf",
    "outputId": "0f008baa-cd83-43f5-d6e4-a3ab9b7e2821"
   },
   "outputs": [
    {
     "data": {
      "text/plain": [
       "array([1, 7, 2, ..., 7, 9, 2], dtype=uint8)"
      ]
     },
     "execution_count": 10,
     "metadata": {
      "tags": []
     },
     "output_type": "execute_result"
    }
   ],
   "source": [
    "y_test.view()"
   ]
  },
  {
   "cell_type": "code",
   "execution_count": 11,
   "metadata": {
    "id": "kensyQXFAFKh"
   },
   "outputs": [],
   "source": [
    "X_train = X_train.reshape((X_train.shape[0], -1))\n",
    "x_test = x_test.reshape((x_test.shape[0], -1))"
   ]
  },
  {
   "cell_type": "markdown",
   "metadata": {
    "id": "qYqTurl9C--J"
   },
   "source": [
    "## **One hot encode the labels for train and test data.**"
   ]
  },
  {
   "cell_type": "code",
   "execution_count": 12,
   "metadata": {
    "id": "gs5XN2CbAHYV"
   },
   "outputs": [],
   "source": [
    "y_train = to_categorical(y_train)\n",
    "y_test = to_categorical(y_test)"
   ]
  },
  {
   "cell_type": "code",
   "execution_count": null,
   "metadata": {
    "colab": {
     "base_uri": "https://localhost:8080/",
     "height": 34
    },
    "id": "D-2TNF48AJJ_",
    "outputId": "b076c520-66e9-46ef-8d66-a326c62ec35c"
   },
   "outputs": [
    {
     "name": "stdout",
     "output_type": "stream",
     "text": [
      "(42000, 1024) (18000, 1024) (42000, 10) (18000, 10)\n"
     ]
    }
   ],
   "source": [
    "print(X_train.shape, x_test.shape, y_train.shape, y_test.shape)"
   ]
  },
  {
   "cell_type": "code",
   "execution_count": null,
   "metadata": {
    "id": "Y8S20BQ3ALYY"
   },
   "outputs": [],
   "source": [
    "X_train = preprocessing.normalize(X_train)\n",
    "x_test = preprocessing.normalize(x_test)"
   ]
  },
  {
   "cell_type": "markdown",
   "metadata": {
    "id": "gef-6Qh3DWww"
   },
   "source": [
    "## ***Defining the model architecture using TensorFlow with a flatten layer followed by dense layers with activation as ReLu and softmax***"
   ]
  },
  {
   "cell_type": "code",
   "execution_count": 13,
   "metadata": {
    "id": "UlahE7izAOSs"
   },
   "outputs": [],
   "source": [
    "def mlp_model():\n",
    "    model = Sequential()\n",
    "    \n",
    "    model.add(Dense(50, input_shape = (1024, )))\n",
    "    model.add(Activation('relu'))    \n",
    "    model.add(Dense(50))\n",
    "    model.add(Activation('relu'))    \n",
    "    model.add(Dense(50))\n",
    "    model.add(Activation('relu'))    \n",
    "    model.add(Dense(50))\n",
    "    model.add(Activation('relu'))    \n",
    "    model.add(Dense(10))\n",
    "    model.add(Activation('softmax'))\n",
    "    \n",
    "    sgd = optimizers.Adam(lr = 0.001)\n",
    "    model.compile(optimizer = sgd, loss = 'categorical_crossentropy', metrics = ['accuracy'])\n",
    "    \n",
    "    return model"
   ]
  },
  {
   "cell_type": "code",
   "execution_count": 14,
   "metadata": {
    "id": "OIPUxsZvAQu9"
   },
   "outputs": [],
   "source": [
    "model = mlp_model()"
   ]
  },
  {
   "cell_type": "code",
   "execution_count": 15,
   "metadata": {
    "colab": {
     "base_uri": "https://localhost:8080/",
     "height": 1000
    },
    "id": "TnjTBoXsATCk",
    "outputId": "0a7e7274-60a6-4133-cc52-6d8d1c535057"
   },
   "outputs": [
    {
     "name": "stdout",
     "output_type": "stream",
     "text": [
      "Epoch 1/50\n",
      "210/210 [==============================] - 1s 4ms/step - loss: 3.4805 - accuracy: 0.0979\n",
      "Epoch 2/50\n",
      "210/210 [==============================] - 1s 4ms/step - loss: 2.3028 - accuracy: 0.1016\n",
      "Epoch 3/50\n",
      "210/210 [==============================] - 1s 4ms/step - loss: 2.3026 - accuracy: 0.1016\n",
      "Epoch 4/50\n",
      "210/210 [==============================] - 1s 4ms/step - loss: 2.3025 - accuracy: 0.1000\n",
      "Epoch 5/50\n",
      "210/210 [==============================] - 1s 4ms/step - loss: 2.3024 - accuracy: 0.1019\n",
      "Epoch 6/50\n",
      "210/210 [==============================] - 1s 4ms/step - loss: 2.3023 - accuracy: 0.1010\n",
      "Epoch 7/50\n",
      "210/210 [==============================] - 1s 4ms/step - loss: 2.3023 - accuracy: 0.1014\n",
      "Epoch 8/50\n",
      "210/210 [==============================] - 1s 4ms/step - loss: 2.3023 - accuracy: 0.1020\n",
      "Epoch 9/50\n",
      "210/210 [==============================] - 1s 4ms/step - loss: 2.3023 - accuracy: 0.1020\n",
      "Epoch 10/50\n",
      "210/210 [==============================] - 1s 4ms/step - loss: 2.3022 - accuracy: 0.0980\n",
      "Epoch 11/50\n",
      "210/210 [==============================] - 1s 4ms/step - loss: 2.3005 - accuracy: 0.1019\n",
      "Epoch 12/50\n",
      "210/210 [==============================] - 1s 4ms/step - loss: 2.2974 - accuracy: 0.1030\n",
      "Epoch 13/50\n",
      "210/210 [==============================] - 1s 4ms/step - loss: 2.3021 - accuracy: 0.1007\n",
      "Epoch 14/50\n",
      "210/210 [==============================] - 1s 4ms/step - loss: 2.2802 - accuracy: 0.1115\n",
      "Epoch 15/50\n",
      "210/210 [==============================] - 1s 4ms/step - loss: 2.2402 - accuracy: 0.1269\n",
      "Epoch 16/50\n",
      "210/210 [==============================] - 1s 4ms/step - loss: 2.2254 - accuracy: 0.1311\n",
      "Epoch 17/50\n",
      "210/210 [==============================] - 1s 4ms/step - loss: 2.2213 - accuracy: 0.1347\n",
      "Epoch 18/50\n",
      "210/210 [==============================] - 1s 4ms/step - loss: 2.2237 - accuracy: 0.1315\n",
      "Epoch 19/50\n",
      "210/210 [==============================] - 1s 4ms/step - loss: 2.2155 - accuracy: 0.1379\n",
      "Epoch 20/50\n",
      "210/210 [==============================] - 1s 4ms/step - loss: 2.2139 - accuracy: 0.1377\n",
      "Epoch 21/50\n",
      "210/210 [==============================] - 1s 4ms/step - loss: 2.2136 - accuracy: 0.1353\n",
      "Epoch 22/50\n",
      "210/210 [==============================] - 1s 4ms/step - loss: 2.2234 - accuracy: 0.1310\n",
      "Epoch 23/50\n",
      "210/210 [==============================] - 1s 4ms/step - loss: 2.2151 - accuracy: 0.1337\n",
      "Epoch 24/50\n",
      "210/210 [==============================] - 1s 4ms/step - loss: 2.2147 - accuracy: 0.1349\n",
      "Epoch 25/50\n",
      "210/210 [==============================] - 1s 4ms/step - loss: 2.2215 - accuracy: 0.1320\n",
      "Epoch 26/50\n",
      "210/210 [==============================] - 1s 4ms/step - loss: 2.2150 - accuracy: 0.1369\n",
      "Epoch 27/50\n",
      "210/210 [==============================] - 1s 4ms/step - loss: 2.2281 - accuracy: 0.1299\n",
      "Epoch 28/50\n",
      "210/210 [==============================] - 1s 4ms/step - loss: 2.2192 - accuracy: 0.1341\n",
      "Epoch 29/50\n",
      "210/210 [==============================] - 1s 4ms/step - loss: 2.2126 - accuracy: 0.1362\n",
      "Epoch 30/50\n",
      "210/210 [==============================] - 1s 4ms/step - loss: 2.2198 - accuracy: 0.1353\n",
      "Epoch 31/50\n",
      "210/210 [==============================] - 1s 4ms/step - loss: 2.2264 - accuracy: 0.1333\n",
      "Epoch 32/50\n",
      "210/210 [==============================] - 1s 4ms/step - loss: 2.2260 - accuracy: 0.1301\n",
      "Epoch 33/50\n",
      "210/210 [==============================] - 1s 4ms/step - loss: 2.2197 - accuracy: 0.1308\n",
      "Epoch 34/50\n",
      "210/210 [==============================] - 1s 4ms/step - loss: 2.2229 - accuracy: 0.1313\n",
      "Epoch 35/50\n",
      "210/210 [==============================] - 1s 4ms/step - loss: 2.2183 - accuracy: 0.1339\n",
      "Epoch 36/50\n",
      "210/210 [==============================] - 1s 4ms/step - loss: 2.2219 - accuracy: 0.1308\n",
      "Epoch 37/50\n",
      "210/210 [==============================] - 1s 4ms/step - loss: 2.2209 - accuracy: 0.1358\n",
      "Epoch 38/50\n",
      "210/210 [==============================] - 1s 4ms/step - loss: 2.2210 - accuracy: 0.1338\n",
      "Epoch 39/50\n",
      "210/210 [==============================] - 1s 4ms/step - loss: 2.2185 - accuracy: 0.1333\n",
      "Epoch 40/50\n",
      "210/210 [==============================] - 1s 4ms/step - loss: 2.2109 - accuracy: 0.1363\n",
      "Epoch 41/50\n",
      "210/210 [==============================] - 1s 4ms/step - loss: 2.2188 - accuracy: 0.1334\n",
      "Epoch 42/50\n",
      "210/210 [==============================] - 1s 4ms/step - loss: 2.2168 - accuracy: 0.1363\n",
      "Epoch 43/50\n",
      "210/210 [==============================] - 1s 4ms/step - loss: 2.2159 - accuracy: 0.1341\n",
      "Epoch 44/50\n",
      "210/210 [==============================] - 1s 4ms/step - loss: 2.2125 - accuracy: 0.1354\n",
      "Epoch 45/50\n",
      "210/210 [==============================] - 1s 4ms/step - loss: 2.2180 - accuracy: 0.1343\n",
      "Epoch 46/50\n",
      "210/210 [==============================] - 1s 4ms/step - loss: 2.2183 - accuracy: 0.1344\n",
      "Epoch 47/50\n",
      "210/210 [==============================] - 1s 4ms/step - loss: 2.2136 - accuracy: 0.1376\n",
      "Epoch 48/50\n",
      "210/210 [==============================] - 1s 4ms/step - loss: 2.2344 - accuracy: 0.1323\n",
      "Epoch 49/50\n",
      "210/210 [==============================] - 1s 4ms/step - loss: 2.2151 - accuracy: 0.1366\n",
      "Epoch 50/50\n",
      "210/210 [==============================] - 1s 4ms/step - loss: 2.2309 - accuracy: 0.1298\n"
     ]
    },
    {
     "data": {
      "text/plain": [
       "<tensorflow.python.keras.callbacks.History at 0x7fc3d35c74e0>"
      ]
     },
     "execution_count": 15,
     "metadata": {
      "tags": []
     },
     "output_type": "execute_result"
    }
   ],
   "source": [
    "model.fit(X_train, y_train, batch_size = 200, epochs = 50, verbose = 1)"
   ]
  },
  {
   "cell_type": "code",
   "execution_count": 16,
   "metadata": {
    "colab": {
     "base_uri": "https://localhost:8080/",
     "height": 34
    },
    "id": "hwq7z3wSAU-i",
    "outputId": "a657fc42-af7a-41e1-de9c-0aaf390e28c5"
   },
   "outputs": [
    {
     "name": "stdout",
     "output_type": "stream",
     "text": [
      "563/563 [==============================] - 1s 1ms/step - loss: 2.2121 - accuracy: 0.1381\n"
     ]
    }
   ],
   "source": [
    "results = model.evaluate(x_test, y_test)"
   ]
  },
  {
   "cell_type": "code",
   "execution_count": 17,
   "metadata": {
    "colab": {
     "base_uri": "https://localhost:8080/",
     "height": 34
    },
    "id": "scoaccWeAsYZ",
    "outputId": "6239dc60-5336-4cdb-b8e6-7f531a0d0f67"
   },
   "outputs": [
    {
     "name": "stdout",
     "output_type": "stream",
     "text": [
      "Test accuracy:  0.13805556297302246\n"
     ]
    }
   ],
   "source": [
    "print('Test accuracy: ', results[1])"
   ]
  },
  {
   "cell_type": "markdown",
   "metadata": {
    "id": "3VUKbfnkGQUy"
   },
   "source": [
    "# ***Compiling the model with loss as categorical cross-entropy and adam optimizers.***"
   ]
  },
  {
   "cell_type": "code",
   "execution_count": 18,
   "metadata": {
    "id": "kMaiYS9DAvC6"
   },
   "outputs": [],
   "source": [
    "from tensorflow.keras.layers import BatchNormalization, Dropout"
   ]
  },
  {
   "cell_type": "code",
   "execution_count": 19,
   "metadata": {
    "id": "izUrCtpjAxZt"
   },
   "outputs": [],
   "source": [
    "def mlp_model():\n",
    "    model = Sequential()\n",
    "    \n",
    "    model.add(Dense(50, input_shape = (1024, ), kernel_initializer='he_normal'))\n",
    "    model.add(BatchNormalization())\n",
    "    model.add(Activation('relu'))\n",
    "    model.add(Dropout(0.2))\n",
    "    model.add(Dense(50, kernel_initializer='he_normal'))\n",
    "    model.add(BatchNormalization())\n",
    "    model.add(Activation('relu'))    \n",
    "    model.add(Dropout(0.2))\n",
    "    model.add(Dense(50, kernel_initializer='he_normal'))\n",
    "    model.add(BatchNormalization())\n",
    "    model.add(Activation('relu'))\n",
    "    model.add(Dropout(0.2))\n",
    "    model.add(Dense(50, kernel_initializer='he_normal'))\n",
    "    model.add(BatchNormalization())\n",
    "    model.add(Activation('relu'))\n",
    "    model.add(Dropout(0.2))\n",
    "    model.add(Dense(10, kernel_initializer='he_normal'))\n",
    "    model.add(Activation('softmax'))\n",
    "    \n",
    "    adam = optimizers.Adam(lr = 0.001)\n",
    "    model.compile(optimizer = adam, loss = 'categorical_crossentropy', metrics = ['accuracy'])\n",
    "    \n",
    "    return model"
   ]
  },
  {
   "cell_type": "code",
   "execution_count": 20,
   "metadata": {
    "colab": {
     "base_uri": "https://localhost:8080/",
     "height": 1000
    },
    "id": "COVGtWzjAzsX",
    "outputId": "eb3e7ef7-b266-4262-b7d1-52112a8d3eb2"
   },
   "outputs": [
    {
     "name": "stdout",
     "output_type": "stream",
     "text": [
      "Epoch 1/50\n",
      "210/210 [==============================] - 1s 6ms/step - loss: 2.3794 - accuracy: 0.1366\n",
      "Epoch 2/50\n",
      "210/210 [==============================] - 1s 6ms/step - loss: 1.9651 - accuracy: 0.2780\n",
      "Epoch 3/50\n",
      "210/210 [==============================] - 1s 6ms/step - loss: 1.6789 - accuracy: 0.4053\n",
      "Epoch 4/50\n",
      "210/210 [==============================] - 1s 6ms/step - loss: 1.5208 - accuracy: 0.4714\n",
      "Epoch 5/50\n",
      "210/210 [==============================] - 1s 6ms/step - loss: 1.4215 - accuracy: 0.5180\n",
      "Epoch 6/50\n",
      "210/210 [==============================] - 1s 6ms/step - loss: 1.3523 - accuracy: 0.5464\n",
      "Epoch 7/50\n",
      "210/210 [==============================] - 1s 6ms/step - loss: 1.3043 - accuracy: 0.5672\n",
      "Epoch 8/50\n",
      "210/210 [==============================] - 1s 6ms/step - loss: 1.2500 - accuracy: 0.5888\n",
      "Epoch 9/50\n",
      "210/210 [==============================] - 1s 6ms/step - loss: 1.2151 - accuracy: 0.6007\n",
      "Epoch 10/50\n",
      "210/210 [==============================] - 1s 6ms/step - loss: 1.1875 - accuracy: 0.6132\n",
      "Epoch 11/50\n",
      "210/210 [==============================] - 1s 6ms/step - loss: 1.1605 - accuracy: 0.6213\n",
      "Epoch 12/50\n",
      "210/210 [==============================] - 1s 6ms/step - loss: 1.1374 - accuracy: 0.6314\n",
      "Epoch 13/50\n",
      "210/210 [==============================] - 1s 6ms/step - loss: 1.1138 - accuracy: 0.6424\n",
      "Epoch 14/50\n",
      "210/210 [==============================] - 1s 6ms/step - loss: 1.1031 - accuracy: 0.6480\n",
      "Epoch 15/50\n",
      "210/210 [==============================] - 1s 6ms/step - loss: 1.0841 - accuracy: 0.6566\n",
      "Epoch 16/50\n",
      "210/210 [==============================] - 1s 6ms/step - loss: 1.0654 - accuracy: 0.6605\n",
      "Epoch 17/50\n",
      "210/210 [==============================] - 1s 6ms/step - loss: 1.0509 - accuracy: 0.6667\n",
      "Epoch 18/50\n",
      "210/210 [==============================] - 1s 6ms/step - loss: 1.0448 - accuracy: 0.6690\n",
      "Epoch 19/50\n",
      "210/210 [==============================] - 1s 6ms/step - loss: 1.0335 - accuracy: 0.6733\n",
      "Epoch 20/50\n",
      "210/210 [==============================] - 1s 6ms/step - loss: 1.0284 - accuracy: 0.6788\n",
      "Epoch 21/50\n",
      "210/210 [==============================] - 1s 6ms/step - loss: 1.0145 - accuracy: 0.6778\n",
      "Epoch 22/50\n",
      "210/210 [==============================] - 1s 6ms/step - loss: 0.9994 - accuracy: 0.6845\n",
      "Epoch 23/50\n",
      "210/210 [==============================] - 1s 6ms/step - loss: 0.9988 - accuracy: 0.6851\n",
      "Epoch 24/50\n",
      "210/210 [==============================] - 1s 6ms/step - loss: 0.9871 - accuracy: 0.6906\n",
      "Epoch 25/50\n",
      "210/210 [==============================] - 1s 6ms/step - loss: 0.9832 - accuracy: 0.6930\n",
      "Epoch 26/50\n",
      "210/210 [==============================] - 1s 6ms/step - loss: 0.9766 - accuracy: 0.6934\n",
      "Epoch 27/50\n",
      "210/210 [==============================] - 1s 6ms/step - loss: 0.9683 - accuracy: 0.6980\n",
      "Epoch 28/50\n",
      "210/210 [==============================] - 1s 6ms/step - loss: 0.9626 - accuracy: 0.6993\n",
      "Epoch 29/50\n",
      "210/210 [==============================] - 1s 6ms/step - loss: 0.9576 - accuracy: 0.7009\n",
      "Epoch 30/50\n",
      "210/210 [==============================] - 1s 6ms/step - loss: 0.9560 - accuracy: 0.7016\n",
      "Epoch 31/50\n",
      "210/210 [==============================] - 1s 6ms/step - loss: 0.9474 - accuracy: 0.7056\n",
      "Epoch 32/50\n",
      "210/210 [==============================] - 1s 6ms/step - loss: 0.9456 - accuracy: 0.7047\n",
      "Epoch 33/50\n",
      "210/210 [==============================] - 1s 6ms/step - loss: 0.9333 - accuracy: 0.7100\n",
      "Epoch 34/50\n",
      "210/210 [==============================] - 1s 6ms/step - loss: 0.9335 - accuracy: 0.7109\n",
      "Epoch 35/50\n",
      "210/210 [==============================] - 1s 6ms/step - loss: 0.9285 - accuracy: 0.7081\n",
      "Epoch 36/50\n",
      "210/210 [==============================] - 1s 6ms/step - loss: 0.9265 - accuracy: 0.7131\n",
      "Epoch 37/50\n",
      "210/210 [==============================] - 1s 6ms/step - loss: 0.9269 - accuracy: 0.7107\n",
      "Epoch 38/50\n",
      "210/210 [==============================] - 1s 6ms/step - loss: 0.9102 - accuracy: 0.7173\n",
      "Epoch 39/50\n",
      "210/210 [==============================] - 1s 6ms/step - loss: 0.9153 - accuracy: 0.7178\n",
      "Epoch 40/50\n",
      "210/210 [==============================] - 1s 6ms/step - loss: 0.9117 - accuracy: 0.7177\n",
      "Epoch 41/50\n",
      "210/210 [==============================] - 1s 5ms/step - loss: 0.9046 - accuracy: 0.7208\n",
      "Epoch 42/50\n",
      "210/210 [==============================] - 1s 5ms/step - loss: 0.9118 - accuracy: 0.7201\n",
      "Epoch 43/50\n",
      "210/210 [==============================] - 1s 6ms/step - loss: 0.9014 - accuracy: 0.7219\n",
      "Epoch 44/50\n",
      "210/210 [==============================] - 1s 6ms/step - loss: 0.9007 - accuracy: 0.7198\n",
      "Epoch 45/50\n",
      "210/210 [==============================] - 1s 5ms/step - loss: 0.8949 - accuracy: 0.7220\n",
      "Epoch 46/50\n",
      "210/210 [==============================] - 1s 6ms/step - loss: 0.8981 - accuracy: 0.7215\n",
      "Epoch 47/50\n",
      "210/210 [==============================] - 1s 5ms/step - loss: 0.8950 - accuracy: 0.7216\n",
      "Epoch 48/50\n",
      "210/210 [==============================] - 1s 6ms/step - loss: 0.8914 - accuracy: 0.7238\n",
      "Epoch 49/50\n",
      "210/210 [==============================] - 1s 6ms/step - loss: 0.8921 - accuracy: 0.7245\n",
      "Epoch 50/50\n",
      "210/210 [==============================] - 1s 6ms/step - loss: 0.8829 - accuracy: 0.7251\n"
     ]
    }
   ],
   "source": [
    "model = mlp_model()\n",
    "hitory=model.fit(X_train, y_train, batch_size = 200, epochs = 50, verbose = 1)"
   ]
  },
  {
   "cell_type": "code",
   "execution_count": 21,
   "metadata": {
    "colab": {
     "base_uri": "https://localhost:8080/",
     "height": 34
    },
    "id": "dGrHRmnKA1zT",
    "outputId": "b95ab91f-31b6-40b6-d6d0-42d486c329b8"
   },
   "outputs": [
    {
     "name": "stdout",
     "output_type": "stream",
     "text": [
      "563/563 [==============================] - 1s 1ms/step - loss: 0.8439 - accuracy: 0.7332\n"
     ]
    }
   ],
   "source": [
    "results = model.evaluate(x_test, y_test)"
   ]
  },
  {
   "cell_type": "markdown",
   "metadata": {
    "id": "4hSYdnzxGcL1"
   },
   "source": [
    "# **Fit and evaluate the model. Print the loss and accuracy for the test data**"
   ]
  },
  {
   "cell_type": "code",
   "execution_count": 22,
   "metadata": {
    "colab": {
     "base_uri": "https://localhost:8080/",
     "height": 50
    },
    "id": "Wwv8-_UMBgq6",
    "outputId": "495f5d3e-8bb8-4812-a64d-ced51dc7f848"
   },
   "outputs": [
    {
     "name": "stdout",
     "output_type": "stream",
     "text": [
      "['loss', 'accuracy']\n",
      "[0.8439016938209534, 0.7331666946411133]\n"
     ]
    }
   ],
   "source": [
    "print(model.metrics_names)\n",
    "print(results)    "
   ]
  },
  {
   "cell_type": "code",
   "execution_count": null,
   "metadata": {
    "id": "TC1pBTKXCLYv"
   },
   "outputs": [],
   "source": []
  }
 ],
 "metadata": {
  "colab": {
   "collapsed_sections": [],
   "name": "Neural Network Assignment.ipynb",
   "provenance": [],
   "toc_visible": true
  },
  "kernelspec": {
   "display_name": "Python 3",
   "language": "python",
   "name": "python3"
  },
  "language_info": {
   "codemirror_mode": {
    "name": "ipython",
    "version": 3
   },
   "file_extension": ".py",
   "mimetype": "text/x-python",
   "name": "python",
   "nbconvert_exporter": "python",
   "pygments_lexer": "ipython3",
   "version": "3.8.3"
  }
 },
 "nbformat": 4,
 "nbformat_minor": 1
}
